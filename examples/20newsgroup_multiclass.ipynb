{
 "cells": [
  {
   "cell_type": "markdown",
   "id": "typical-hearing",
   "metadata": {},
   "source": [
    "# Load Data"
   ]
  },
  {
   "cell_type": "code",
   "execution_count": 1,
   "id": "buried-trading",
   "metadata": {},
   "outputs": [],
   "source": [
    "from sklearn.datasets import fetch_20newsgroups"
   ]
  },
  {
   "cell_type": "code",
   "execution_count": 2,
   "id": "49cfa990-15c4-4322-970e-cc065cb94d01",
   "metadata": {},
   "outputs": [],
   "source": [
    "categories = ['alt.atheism', 'comp.graphics', 'talk.politics.misc']"
   ]
  },
  {
   "cell_type": "code",
   "execution_count": 3,
   "id": "agricultural-brooklyn",
   "metadata": {},
   "outputs": [],
   "source": [
    "newsgroups_train = fetch_20newsgroups(subset='train', categories=categories, remove=('headers', 'footers', 'quotes'))"
   ]
  },
  {
   "cell_type": "code",
   "execution_count": 4,
   "id": "least-borough",
   "metadata": {},
   "outputs": [
    {
     "name": "stdout",
     "output_type": "stream",
     "text": [
      "\n",
      "I agree, I had a hard feeling not believing my grand-grand mother\n",
      "who told me of elves dancing outside barns in the early mornings.\n",
      "I preferred not to accept it, even if her statement provided\n",
      "the truth itself. Life is hard.\n",
      "\n",
      "Cheers,\n",
      "Kent\n"
     ]
    }
   ],
   "source": [
    "print(newsgroups_train.data[0])"
   ]
  },
  {
   "cell_type": "markdown",
   "id": "physical-belgium",
   "metadata": {},
   "source": [
    "# Pre-processing"
   ]
  },
  {
   "cell_type": "code",
   "execution_count": 5,
   "id": "continued-motor",
   "metadata": {},
   "outputs": [
    {
     "name": "stdout",
     "output_type": "stream",
     "text": [
      "Collecting en-core-web-sm==3.2.0\n",
      "  Downloading https://github.com/explosion/spacy-models/releases/download/en_core_web_sm-3.2.0/en_core_web_sm-3.2.0-py3-none-any.whl (13.9 MB)\n",
      "\u001b[K     |████████████████████████████████| 13.9 MB 3.3 MB/s eta 0:00:01\n",
      "\u001b[?25hRequirement already satisfied: spacy<3.3.0,>=3.2.0 in /opt/anaconda3/envs/pyCP_APR/lib/python3.8/site-packages (from en-core-web-sm==3.2.0) (3.2.0)\n",
      "Requirement already satisfied: murmurhash<1.1.0,>=0.28.0 in /opt/anaconda3/envs/pyCP_APR/lib/python3.8/site-packages (from spacy<3.3.0,>=3.2.0->en-core-web-sm==3.2.0) (1.0.6)\n",
      "Requirement already satisfied: spacy-loggers<2.0.0,>=1.0.0 in /opt/anaconda3/envs/pyCP_APR/lib/python3.8/site-packages (from spacy<3.3.0,>=3.2.0->en-core-web-sm==3.2.0) (1.0.1)\n",
      "Requirement already satisfied: typer<0.5.0,>=0.3.0 in /opt/anaconda3/envs/pyCP_APR/lib/python3.8/site-packages (from spacy<3.3.0,>=3.2.0->en-core-web-sm==3.2.0) (0.4.0)\n",
      "Requirement already satisfied: setuptools in /opt/anaconda3/envs/pyCP_APR/lib/python3.8/site-packages (from spacy<3.3.0,>=3.2.0->en-core-web-sm==3.2.0) (52.0.0.post20210125)\n",
      "Requirement already satisfied: thinc<8.1.0,>=8.0.12 in /opt/anaconda3/envs/pyCP_APR/lib/python3.8/site-packages (from spacy<3.3.0,>=3.2.0->en-core-web-sm==3.2.0) (8.0.13)\n",
      "Requirement already satisfied: packaging>=20.0 in /opt/anaconda3/envs/pyCP_APR/lib/python3.8/site-packages (from spacy<3.3.0,>=3.2.0->en-core-web-sm==3.2.0) (20.9)\n",
      "Requirement already satisfied: catalogue<2.1.0,>=2.0.6 in /opt/anaconda3/envs/pyCP_APR/lib/python3.8/site-packages (from spacy<3.3.0,>=3.2.0->en-core-web-sm==3.2.0) (2.0.6)\n",
      "Requirement already satisfied: numpy>=1.15.0 in /opt/anaconda3/envs/pyCP_APR/lib/python3.8/site-packages/numpy-1.19.2-py3.8-macosx-10.9-x86_64.egg (from spacy<3.3.0,>=3.2.0->en-core-web-sm==3.2.0) (1.19.2)\n",
      "Requirement already satisfied: requests<3.0.0,>=2.13.0 in /opt/anaconda3/envs/pyCP_APR/lib/python3.8/site-packages/requests-2.25.1-py3.8.egg (from spacy<3.3.0,>=3.2.0->en-core-web-sm==3.2.0) (2.25.1)\n",
      "Requirement already satisfied: tqdm<5.0.0,>=4.38.0 in /opt/anaconda3/envs/pyCP_APR/lib/python3.8/site-packages (from spacy<3.3.0,>=3.2.0->en-core-web-sm==3.2.0) (4.62.3)\n",
      "Requirement already satisfied: pathy>=0.3.5 in /opt/anaconda3/envs/pyCP_APR/lib/python3.8/site-packages (from spacy<3.3.0,>=3.2.0->en-core-web-sm==3.2.0) (0.6.1)\n",
      "Requirement already satisfied: jinja2 in /opt/anaconda3/envs/pyCP_APR/lib/python3.8/site-packages (from spacy<3.3.0,>=3.2.0->en-core-web-sm==3.2.0) (3.0.1)\n",
      "Requirement already satisfied: blis<0.8.0,>=0.4.0 in /opt/anaconda3/envs/pyCP_APR/lib/python3.8/site-packages (from spacy<3.3.0,>=3.2.0->en-core-web-sm==3.2.0) (0.7.5)\n",
      "Requirement already satisfied: langcodes<4.0.0,>=3.2.0 in /opt/anaconda3/envs/pyCP_APR/lib/python3.8/site-packages (from spacy<3.3.0,>=3.2.0->en-core-web-sm==3.2.0) (3.3.0)\n",
      "Requirement already satisfied: cymem<2.1.0,>=2.0.2 in /opt/anaconda3/envs/pyCP_APR/lib/python3.8/site-packages (from spacy<3.3.0,>=3.2.0->en-core-web-sm==3.2.0) (2.0.6)\n",
      "Requirement already satisfied: pydantic!=1.8,!=1.8.1,<1.9.0,>=1.7.4 in /opt/anaconda3/envs/pyCP_APR/lib/python3.8/site-packages (from spacy<3.3.0,>=3.2.0->en-core-web-sm==3.2.0) (1.8.2)\n",
      "Requirement already satisfied: preshed<3.1.0,>=3.0.2 in /opt/anaconda3/envs/pyCP_APR/lib/python3.8/site-packages (from spacy<3.3.0,>=3.2.0->en-core-web-sm==3.2.0) (3.0.6)\n",
      "Requirement already satisfied: spacy-legacy<3.1.0,>=3.0.8 in /opt/anaconda3/envs/pyCP_APR/lib/python3.8/site-packages (from spacy<3.3.0,>=3.2.0->en-core-web-sm==3.2.0) (3.0.8)\n",
      "Requirement already satisfied: wasabi<1.1.0,>=0.8.1 in /opt/anaconda3/envs/pyCP_APR/lib/python3.8/site-packages (from spacy<3.3.0,>=3.2.0->en-core-web-sm==3.2.0) (0.8.2)\n",
      "Requirement already satisfied: srsly<3.0.0,>=2.4.1 in /opt/anaconda3/envs/pyCP_APR/lib/python3.8/site-packages (from spacy<3.3.0,>=3.2.0->en-core-web-sm==3.2.0) (2.4.2)\n",
      "Requirement already satisfied: pyparsing>=2.0.2 in /Users/maksimekineren/Desktop/Maksim/LANL/Code/cp-apr-release/.eggs/pyparsing-2.4.7-py3.8.egg (from packaging>=20.0->spacy<3.3.0,>=3.2.0->en-core-web-sm==3.2.0) (2.4.7)\n",
      "Requirement already satisfied: smart-open<6.0.0,>=5.0.0 in /opt/anaconda3/envs/pyCP_APR/lib/python3.8/site-packages (from pathy>=0.3.5->spacy<3.3.0,>=3.2.0->en-core-web-sm==3.2.0) (5.2.1)\n",
      "Requirement already satisfied: typing-extensions>=3.7.4.3 in /Users/maksimekineren/Desktop/Maksim/LANL/Code/cp-apr-release/.eggs/typing_extensions-3.10.0.0-py3.8.egg (from pydantic!=1.8,!=1.8.1,<1.9.0,>=1.7.4->spacy<3.3.0,>=3.2.0->en-core-web-sm==3.2.0) (3.10.0.0)\n",
      "Requirement already satisfied: certifi>=2017.4.17 in /opt/anaconda3/envs/pyCP_APR/lib/python3.8/site-packages (from requests<3.0.0,>=2.13.0->spacy<3.3.0,>=3.2.0->en-core-web-sm==3.2.0) (2020.12.5)\n",
      "Requirement already satisfied: chardet<5,>=3.0.2 in /opt/anaconda3/envs/pyCP_APR/lib/python3.8/site-packages/chardet-4.0.0-py3.8.egg (from requests<3.0.0,>=2.13.0->spacy<3.3.0,>=3.2.0->en-core-web-sm==3.2.0) (4.0.0)\n",
      "Requirement already satisfied: idna<3,>=2.5 in /opt/anaconda3/envs/pyCP_APR/lib/python3.8/site-packages/idna-2.10-py3.8.egg (from requests<3.0.0,>=2.13.0->spacy<3.3.0,>=3.2.0->en-core-web-sm==3.2.0) (2.10)\n",
      "Requirement already satisfied: urllib3<1.27,>=1.21.1 in /opt/anaconda3/envs/pyCP_APR/lib/python3.8/site-packages/urllib3-1.26.5-py3.8.egg (from requests<3.0.0,>=2.13.0->spacy<3.3.0,>=3.2.0->en-core-web-sm==3.2.0) (1.26.5)\n",
      "Requirement already satisfied: click<9.0.0,>=7.1.1 in /opt/anaconda3/envs/pyCP_APR/lib/python3.8/site-packages (from typer<0.5.0,>=0.3.0->spacy<3.3.0,>=3.2.0->en-core-web-sm==3.2.0) (8.0.1)\n",
      "Requirement already satisfied: MarkupSafe>=2.0 in /opt/anaconda3/envs/pyCP_APR/lib/python3.8/site-packages (from jinja2->spacy<3.3.0,>=3.2.0->en-core-web-sm==3.2.0) (2.0.1)\n",
      "\u001b[38;5;2m✔ Download and installation successful\u001b[0m\n",
      "You can now load the package via spacy.load('en_core_web_sm')\n"
     ]
    }
   ],
   "source": [
    "! python -m spacy download en_core_web_sm"
   ]
  },
  {
   "cell_type": "code",
   "execution_count": 6,
   "id": "covered-glance",
   "metadata": {},
   "outputs": [],
   "source": [
    "import spacy\n",
    "from spacy.lang.en.stop_words import STOP_WORDS\n",
    "import en_core_web_sm"
   ]
  },
  {
   "cell_type": "code",
   "execution_count": 7,
   "id": "sticky-economics",
   "metadata": {},
   "outputs": [
    {
     "data": {
      "text/plain": [
       "['in',\n",
       " 'everyone',\n",
       " 'next',\n",
       " 'hers',\n",
       " 'seems',\n",
       " 'although',\n",
       " 'herein',\n",
       " 'wherein',\n",
       " 'quite',\n",
       " 'two']"
      ]
     },
     "execution_count": 7,
     "metadata": {},
     "output_type": "execute_result"
    }
   ],
   "source": [
    "import string\n",
    "\n",
    "punctuations = string.punctuation\n",
    "stopwords = list(STOP_WORDS)\n",
    "stopwords[:10]"
   ]
  },
  {
   "cell_type": "code",
   "execution_count": 8,
   "id": "first-machine",
   "metadata": {},
   "outputs": [
    {
     "data": {
      "text/html": [
       "<div>\n",
       "<style scoped>\n",
       "    .dataframe tbody tr th:only-of-type {\n",
       "        vertical-align: middle;\n",
       "    }\n",
       "\n",
       "    .dataframe tbody tr th {\n",
       "        vertical-align: top;\n",
       "    }\n",
       "\n",
       "    .dataframe thead th {\n",
       "        text-align: right;\n",
       "    }\n",
       "</style>\n",
       "<table border=\"1\" class=\"dataframe\">\n",
       "  <thead>\n",
       "    <tr style=\"text-align: right;\">\n",
       "      <th></th>\n",
       "      <th>text</th>\n",
       "    </tr>\n",
       "  </thead>\n",
       "  <tbody>\n",
       "    <tr>\n",
       "      <th>0</th>\n",
       "      <td>I agree, I had a hard feeling not believing my...</td>\n",
       "    </tr>\n",
       "    <tr>\n",
       "      <th>1</th>\n",
       "      <td></td>\n",
       "    </tr>\n",
       "    <tr>\n",
       "      <th>2</th>\n",
       "      <td>Has anyone got multiverse to work ?I have buil...</td>\n",
       "    </tr>\n",
       "    <tr>\n",
       "      <th>3</th>\n",
       "      <td>[deletions...]First of all, infinity is a math...</td>\n",
       "    </tr>\n",
       "    <tr>\n",
       "      <th>4</th>\n",
       "      <td>It's not what they did that matters.  It's wha...</td>\n",
       "    </tr>\n",
       "    <tr>\n",
       "      <th>...</th>\n",
       "      <td>...</td>\n",
       "    </tr>\n",
       "    <tr>\n",
       "      <th>1524</th>\n",
       "      <td>I recommend the book \"Adams _v_ Texas\", the st...</td>\n",
       "    </tr>\n",
       "    <tr>\n",
       "      <th>1525</th>\n",
       "      <td>There are several public domain utilities avai...</td>\n",
       "    </tr>\n",
       "    <tr>\n",
       "      <th>1526</th>\n",
       "      <td>I did not claim that our system was objective.</td>\n",
       "    </tr>\n",
       "    <tr>\n",
       "      <th>1527</th>\n",
       "      <td>I'm looking for a database called \"Micro World...</td>\n",
       "    </tr>\n",
       "    <tr>\n",
       "      <th>1528</th>\n",
       "      <td>Specifically, which changes are you talking ab...</td>\n",
       "    </tr>\n",
       "  </tbody>\n",
       "</table>\n",
       "<p>1529 rows × 1 columns</p>\n",
       "</div>"
      ],
      "text/plain": [
       "                                                   text\n",
       "0     I agree, I had a hard feeling not believing my...\n",
       "1                                                      \n",
       "2     Has anyone got multiverse to work ?I have buil...\n",
       "3     [deletions...]First of all, infinity is a math...\n",
       "4     It's not what they did that matters.  It's wha...\n",
       "...                                                 ...\n",
       "1524  I recommend the book \"Adams _v_ Texas\", the st...\n",
       "1525  There are several public domain utilities avai...\n",
       "1526     I did not claim that our system was objective.\n",
       "1527  I'm looking for a database called \"Micro World...\n",
       "1528  Specifically, which changes are you talking ab...\n",
       "\n",
       "[1529 rows x 1 columns]"
      ]
     },
     "execution_count": 8,
     "metadata": {},
     "output_type": "execute_result"
    }
   ],
   "source": [
    "import pandas as pd\n",
    "\n",
    "df = pd.DataFrame(newsgroups_train.data, columns=[\"text\"])\n",
    "df = df.replace('\\n','', regex=True)\n",
    "df"
   ]
  },
  {
   "cell_type": "code",
   "execution_count": 9,
   "id": "complex-rapid",
   "metadata": {},
   "outputs": [],
   "source": [
    "# Parser\n",
    "parser = spacy.load(\"en_core_web_sm\")\n",
    "parser.max_length = 7000000\n",
    "\n",
    "def spacy_tokenizer(sentence):\n",
    "    mytokens = parser(sentence)\n",
    "    mytokens = [ word.lemma_.lower().strip() if word.lemma_ != \"-PRON-\" else word.lower_ for word in mytokens ]\n",
    "    mytokens = [ word for word in mytokens if word not in stopwords and word not in punctuations ]\n",
    "    mytokens = \" \".join([i for i in mytokens])\n",
    "    return mytokens"
   ]
  },
  {
   "cell_type": "code",
   "execution_count": 10,
   "id": "subtle-mixer",
   "metadata": {},
   "outputs": [
    {
     "name": "stderr",
     "output_type": "stream",
     "text": [
      "100%|███████████████████████████████████████████████████████████████| 1529/1529 [00:51<00:00, 29.47it/s]\n"
     ]
    }
   ],
   "source": [
    "from tqdm import tqdm\n",
    "tqdm.pandas()\n",
    "df[\"processed_text\"] = df[\"text\"].progress_apply(spacy_tokenizer)"
   ]
  },
  {
   "cell_type": "code",
   "execution_count": 11,
   "id": "nearby-crawford",
   "metadata": {},
   "outputs": [
    {
     "data": {
      "text/plain": [
       "0       agree hard feeling believe grand grand motherw...\n",
       "1                                                        \n",
       "2       multiverse work build 486 svr4 mips svr4s sun ...\n",
       "3       deletion ... ]first infinity mathematical conc...\n",
       "4       matter andwhat response matter welessen kill r...\n",
       "                              ...                        \n",
       "1524    recommend book adams v texas story man adams w...\n",
       "1525    public domain utility available usualarchive s...\n",
       "1526                               claim system objective\n",
       "1527    look database micro world data bank ii databas...\n",
       "1528    specifically change talk arguingthat motto int...\n",
       "Name: processed_text, Length: 1529, dtype: object"
      ]
     },
     "execution_count": 11,
     "metadata": {},
     "output_type": "execute_result"
    }
   ],
   "source": [
    "df[\"processed_text\"]"
   ]
  },
  {
   "cell_type": "markdown",
   "id": "south-browser",
   "metadata": {},
   "source": [
    "# Vectorize"
   ]
  },
  {
   "cell_type": "code",
   "execution_count": 12,
   "id": "rural-pilot",
   "metadata": {},
   "outputs": [],
   "source": [
    "from sklearn.feature_extraction.text import TfidfVectorizer\n",
    "\n",
    "text = df['processed_text'].values\n",
    "vectorizer = TfidfVectorizer(max_features=30)\n",
    "X = vectorizer.fit_transform(text).toarray()"
   ]
  },
  {
   "cell_type": "code",
   "execution_count": 13,
   "id": "involved-sailing",
   "metadata": {},
   "outputs": [
    {
     "data": {
      "text/plain": [
       "(1529, 30)"
      ]
     },
     "execution_count": 13,
     "metadata": {},
     "output_type": "execute_result"
    }
   ],
   "source": [
    "X.shape"
   ]
  },
  {
   "cell_type": "code",
   "execution_count": 14,
   "id": "tamil-improvement",
   "metadata": {},
   "outputs": [],
   "source": [
    "y = newsgroups_train.target"
   ]
  },
  {
   "cell_type": "markdown",
   "id": "0876167c-a88d-4a0d-a5ab-bdc855b5db4c",
   "metadata": {},
   "source": [
    "# Organize Data"
   ]
  },
  {
   "cell_type": "code",
   "execution_count": 15,
   "id": "08788f4e-68f9-4a3e-a3ae-c2e3430a74ae",
   "metadata": {},
   "outputs": [],
   "source": [
    "y_true = y.copy()\n",
    "y_experiment = y_true.copy()"
   ]
  },
  {
   "cell_type": "code",
   "execution_count": 16,
   "id": "cffcd560-941c-46b4-b6cb-6b2b29972fd5",
   "metadata": {},
   "outputs": [],
   "source": [
    "import numpy as np\n",
    "rng = np.random.RandomState(42)\n",
    "random_unlabeled_points = rng.rand(y_experiment.shape[0]) < 0.5\n",
    "y_experiment[random_unlabeled_points] = -1"
   ]
  },
  {
   "cell_type": "markdown",
   "id": "modified-situation",
   "metadata": {},
   "source": [
    "# RFoT"
   ]
  },
  {
   "cell_type": "code",
   "execution_count": null,
   "id": "vocal-relaxation",
   "metadata": {},
   "outputs": [
    {
     "name": "stderr",
     "output_type": "stream",
     "text": [
      "100%|███████████████████████████████████████████████████████████████████| 50/50 [01:05<00:00,  1.31s/it]\n",
      "/opt/anaconda3/envs/pyCP_APR/lib/python3.8/site-packages/RFoT-0.0.1-py3.8.egg/RFoT/cp_als_numpy/cp_als.py:109: RuntimeWarning: invalid value encountered in sqrt\n",
      "/opt/anaconda3/envs/pyCP_APR/lib/python3.8/site-packages/RFoT-0.0.1-py3.8.egg/RFoT/cp_als_numpy/cp_als.py:109: RuntimeWarning: invalid value encountered in sqrt\n",
      " 12%|████████▏                                                           | 6/50 [00:15<01:16,  1.75s/it]"
     ]
    }
   ],
   "source": [
    "from RFoT import RFoT\n",
    "\n",
    "model = RFoT(\n",
    "        bin_scale=1,\n",
    "        max_dimensions=5,\n",
    "        component_purity_tol=0.99,\n",
    "        min_rank=11,\n",
    "        max_rank=21,\n",
    "        n_estimators=50,\n",
    "        bin_entry=True,\n",
    "        clustering=\"ms\",\n",
    "        max_depth=2,\n",
    "        n_jobs=10,\n",
    ")\n",
    "y_pred = model.predict(X, y_experiment)"
   ]
  },
  {
   "cell_type": "markdown",
   "id": "raising-pacific",
   "metadata": {},
   "source": [
    "# Look at the results"
   ]
  },
  {
   "cell_type": "code",
   "execution_count": null,
   "id": "sapphire-universe",
   "metadata": {},
   "outputs": [],
   "source": [
    "from sklearn.metrics import f1_score\n",
    "\n",
    "unknown_indices = np.argwhere(y_experiment == -1).flatten()\n",
    "did_predict_indices = np.argwhere(y_pred[unknown_indices] != -1).flatten()\n",
    "abstaining_count = len(np.argwhere(y_pred == -1))\n",
    "f1 = f1_score(\n",
    "    y_true[unknown_indices][did_predict_indices],\n",
    "    y_pred[unknown_indices][did_predict_indices],\n",
    "    average=\"weighted\",\n",
    ")\n",
    "\n",
    "print(\"------------------------\")\n",
    "print(\"Num. of Abstaining\", abstaining_count)\n",
    "print(\"Percent Abstaining\", (abstaining_count / len(unknown_indices)) * 100, \"%\")\n",
    "print(\"F1=\", f1)"
   ]
  },
  {
   "cell_type": "code",
   "execution_count": null,
   "id": "undefined-colorado",
   "metadata": {},
   "outputs": [],
   "source": [
    "from sklearn.metrics import classification_report\n",
    "\n",
    "y_true_hat = y_true[unknown_indices][did_predict_indices]\n",
    "y_pred_hat = y_pred[unknown_indices][did_predict_indices]\n",
    "print(classification_report(y_true_hat, y_pred_hat))"
   ]
  },
  {
   "cell_type": "code",
   "execution_count": null,
   "id": "ed014219-2198-4ca4-921d-b7d70822a687",
   "metadata": {},
   "outputs": [],
   "source": []
  }
 ],
 "metadata": {
  "kernelspec": {
   "display_name": "Python 3 (ipykernel)",
   "language": "python",
   "name": "python3"
  },
  "language_info": {
   "codemirror_mode": {
    "name": "ipython",
    "version": 3
   },
   "file_extension": ".py",
   "mimetype": "text/x-python",
   "name": "python",
   "nbconvert_exporter": "python",
   "pygments_lexer": "ipython3",
   "version": "3.8.5"
  }
 },
 "nbformat": 4,
 "nbformat_minor": 5
}

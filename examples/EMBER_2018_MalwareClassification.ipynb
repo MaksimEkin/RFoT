{
 "cells": [
  {
   "cell_type": "markdown",
   "id": "9de1eb00-499e-4a04-9859-76d09266a237",
   "metadata": {},
   "source": [
    "# Load Data"
   ]
  },
  {
   "cell_type": "code",
   "execution_count": 1,
   "id": "4ab2b9d8-ece4-478f-9697-702230185748",
   "metadata": {},
   "outputs": [],
   "source": [
    "import pandas as pd\n",
    "import numpy as np\n",
    "from scipy import stats\n",
    "\n",
    "df = pd.read_pickle(\"../data/mini_ember_df.p\")"
   ]
  },
  {
   "cell_type": "markdown",
   "id": "ae177901-4c2d-4c99-aab0-328fd24131da",
   "metadata": {},
   "source": [
    "# Simple Pre-process"
   ]
  },
  {
   "cell_type": "code",
   "execution_count": 2,
   "id": "ee1c2306-2ce3-466a-8a61-14f2601031e3",
   "metadata": {},
   "outputs": [
    {
     "name": "stdout",
     "output_type": "stream",
     "text": [
      "<class 'pandas.core.frame.DataFrame'>\n",
      "Int64Index: 454 entries, 695061 to 251597\n",
      "Data columns (total 10 columns):\n",
      " #   Column           Non-Null Count  Dtype  \n",
      "---  ------           --------------  -----  \n",
      " 0   strings_entropy  454 non-null    float64\n",
      " 1   num_strings      454 non-null    int64  \n",
      " 2   file_size        454 non-null    int64  \n",
      " 3   num_exports      454 non-null    int64  \n",
      " 4   num_imports      454 non-null    int64  \n",
      " 5   sizeof_code      454 non-null    int64  \n",
      " 6   num_sections     454 non-null    int64  \n",
      " 7   has_debug        454 non-null    int64  \n",
      " 8   has_signature    454 non-null    int64  \n",
      " 9   y                454 non-null    int64  \n",
      "dtypes: float64(1), int64(9)\n",
      "memory usage: 39.0 KB\n",
      "None\n"
     ]
    }
   ],
   "source": [
    "df.dropna(inplace=True)\n",
    "df = df[(np.abs(stats.zscore(df)) < 3).all(axis=1)]\n",
    "print(df.info())"
   ]
  },
  {
   "cell_type": "markdown",
   "id": "a2678666-70e9-468b-abdd-df1bad3ab553",
   "metadata": {},
   "source": [
    "# Organize Data"
   ]
  },
  {
   "cell_type": "code",
   "execution_count": 3,
   "id": "245036c7-061b-4779-803b-c94bb6223f63",
   "metadata": {},
   "outputs": [],
   "source": [
    "X = df.drop(\"y\", axis=1)\n",
    "y_true = np.array(df[\"y\"].tolist())\n",
    "y_experiment = y_true.copy()"
   ]
  },
  {
   "cell_type": "code",
   "execution_count": 4,
   "id": "304ae65e-4541-48b9-807e-89c57ae0f26e",
   "metadata": {},
   "outputs": [],
   "source": [
    "rng = np.random.RandomState(42)\n",
    "random_unlabeled_points = rng.rand(y_experiment.shape[0]) < 0.3\n",
    "y_experiment[random_unlabeled_points] = -1"
   ]
  },
  {
   "cell_type": "code",
   "execution_count": 5,
   "id": "62f84937-3c88-4743-8109-b86d5ab1a8c0",
   "metadata": {},
   "outputs": [],
   "source": [
    "data = {\n",
    "    \"y_experiment\":y_experiment,\n",
    "    \"X\":X,\n",
    "    \"y_true\":y_true\n",
    "}"
   ]
  },
  {
   "cell_type": "code",
   "execution_count": 6,
   "id": "0b57ffa9-00ea-4221-a878-5d77933d2db0",
   "metadata": {},
   "outputs": [],
   "source": [
    "import pickle\n",
    "\n",
    "pickle.dump(data, open(\"../data/example.p\", \"wb\"))"
   ]
  },
  {
   "cell_type": "markdown",
   "id": "8edf19aa-3cd7-4d8d-bc18-d80a8edd4be7",
   "metadata": {},
   "source": [
    "# Predict with RFoT"
   ]
  },
  {
   "cell_type": "code",
   "execution_count": 5,
   "id": "c1a89aeb-20bb-42f1-84d1-ef7b62e718d9",
   "metadata": {},
   "outputs": [],
   "source": [
    "import warnings;\n",
    "warnings.filterwarnings(\"ignore\")"
   ]
  },
  {
   "cell_type": "code",
   "execution_count": 6,
   "id": "52582f3c-25d0-45c0-b372-4a9f6ef3361a",
   "metadata": {},
   "outputs": [
    {
     "name": "stderr",
     "output_type": "stream",
     "text": [
      "100%|██████████| 200/200 [00:30<00:00,  6.48it/s]\n"
     ]
    }
   ],
   "source": [
    "from RFoT import RFoT\n",
    "\n",
    "model = RFoT(\n",
    "        bin_scale=1,\n",
    "        min_dimensions=3,\n",
    "        max_dimensions=8,\n",
    "        component_purity_tol=1.0,\n",
    "        rank=2,\n",
    "        n_estimators=200,\n",
    "        bin_entry=False,\n",
    "        clustering=\"ms\",\n",
    "        decomp=\"cp_apr_gpu\",\n",
    "        n_jobs=2,\n",
    "        n_gpus=2\n",
    ")\n",
    "y_pred = model.predict(X, y_experiment)"
   ]
  },
  {
   "cell_type": "markdown",
   "id": "ed2359be-4f89-4a06-9b30-496e14f9c88d",
   "metadata": {},
   "source": [
    "# Results"
   ]
  },
  {
   "cell_type": "code",
   "execution_count": 7,
   "id": "e95e0e21-804e-472e-a7de-7e9d83673860",
   "metadata": {},
   "outputs": [
    {
     "name": "stdout",
     "output_type": "stream",
     "text": [
      "------------------------\n",
      "Num. of Abstaining 124\n",
      "Percent Abstaining 89.20863309352518 %\n",
      "F1= 0.8666666666666667\n"
     ]
    }
   ],
   "source": [
    "from sklearn.metrics import f1_score\n",
    "\n",
    "unknown_indices = np.argwhere(y_experiment == -1).flatten()\n",
    "did_predict_indices = np.argwhere(y_pred[unknown_indices] != -1).flatten()\n",
    "abstaining_count = len(np.argwhere(y_pred == -1))\n",
    "f1 = f1_score(\n",
    "    y_true[unknown_indices][did_predict_indices],\n",
    "    y_pred[unknown_indices][did_predict_indices],\n",
    "    average=\"weighted\",\n",
    ")\n",
    "\n",
    "print(\"------------------------\")\n",
    "print(\"Num. of Abstaining\", abstaining_count)\n",
    "print(\"Percent Abstaining\", (abstaining_count / len(unknown_indices)) * 100, \"%\")\n",
    "print(\"F1=\", f1)"
   ]
  },
  {
   "cell_type": "code",
   "execution_count": null,
   "id": "334c4cb4-774d-4682-bf8e-5dc56a3ca2b8",
   "metadata": {},
   "outputs": [],
   "source": []
  }
 ],
 "metadata": {
  "kernelspec": {
   "display_name": "RFoT",
   "language": "python",
   "name": "rfot"
  },
  "language_info": {
   "codemirror_mode": {
    "name": "ipython",
    "version": 3
   },
   "file_extension": ".py",
   "mimetype": "text/x-python",
   "name": "python",
   "nbconvert_exporter": "python",
   "pygments_lexer": "ipython3",
   "version": "3.8.5"
  }
 },
 "nbformat": 4,
 "nbformat_minor": 5
}

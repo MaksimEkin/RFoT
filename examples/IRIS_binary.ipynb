{
 "cells": [
  {
   "cell_type": "markdown",
   "id": "appropriate-leather",
   "metadata": {},
   "source": [
    "# Load Data"
   ]
  },
  {
   "cell_type": "code",
   "execution_count": 1,
   "id": "united-manhattan",
   "metadata": {
    "tags": []
   },
   "outputs": [
    {
     "data": {
      "text/plain": [
       "['data',\n",
       " 'target',\n",
       " 'frame',\n",
       " 'target_names',\n",
       " 'DESCR',\n",
       " 'feature_names',\n",
       " 'filename']"
      ]
     },
     "execution_count": 1,
     "metadata": {},
     "output_type": "execute_result"
    }
   ],
   "source": [
    "from sklearn import datasets\n",
    "iris = datasets.load_iris()\n",
    "list(iris.keys())"
   ]
  },
  {
   "cell_type": "code",
   "execution_count": 2,
   "id": "continuing-waters",
   "metadata": {},
   "outputs": [
    {
     "data": {
      "text/plain": [
       "array([5.1, 3.5, 1.4, 0.2])"
      ]
     },
     "execution_count": 2,
     "metadata": {},
     "output_type": "execute_result"
    }
   ],
   "source": [
    "iris[\"data\"][0]"
   ]
  },
  {
   "cell_type": "code",
   "execution_count": 3,
   "id": "random-finder",
   "metadata": {},
   "outputs": [],
   "source": [
    "import numpy as np\n",
    "\n",
    "X = iris[\"data\"]\n",
    "y = (iris[\"target\"] == 2).astype(np.int)  # 1 if Iris virginica, else 0"
   ]
  },
  {
   "cell_type": "code",
   "execution_count": 4,
   "id": "3cc76155-d6bd-49e1-9b77-cf5d24f08865",
   "metadata": {},
   "outputs": [],
   "source": [
    "y_true = y.copy()\n",
    "y_experiment = y_true.copy()"
   ]
  },
  {
   "cell_type": "code",
   "execution_count": 5,
   "id": "38e09bb3-3cd7-4457-9722-6d151e6af0e2",
   "metadata": {},
   "outputs": [],
   "source": [
    "rng = np.random.RandomState(42)\n",
    "random_unlabeled_points = rng.rand(y_experiment.shape[0]) < 0.3\n",
    "y_experiment[random_unlabeled_points] = -1"
   ]
  },
  {
   "cell_type": "code",
   "execution_count": 6,
   "id": "lovely-clearance",
   "metadata": {},
   "outputs": [
    {
     "data": {
      "text/plain": [
       "(150, 4)"
      ]
     },
     "execution_count": 6,
     "metadata": {},
     "output_type": "execute_result"
    }
   ],
   "source": [
    "X.shape"
   ]
  },
  {
   "cell_type": "markdown",
   "id": "choice-limitation",
   "metadata": {},
   "source": [
    "# RFoT"
   ]
  },
  {
   "cell_type": "code",
   "execution_count": 9,
   "id": "325cfe01-bf70-48f5-9fa0-70986cf4c039",
   "metadata": {},
   "outputs": [
    {
     "name": "stderr",
     "output_type": "stream",
     "text": [
      "100%|███████████████████████████████████████████████████████████████████| 50/50 [00:09<00:00,  5.29it/s]\n",
      "100%|███████████████████████████████████████████████████████████████████| 50/50 [00:09<00:00,  5.47it/s]\n"
     ]
    }
   ],
   "source": [
    "from RFoT import RFoT\n",
    "\n",
    "model = RFoT(\n",
    "        bin_scale=1,\n",
    "        max_dimensions=3,\n",
    "        component_purity_tol=0.99,\n",
    "        min_rank=11,\n",
    "        max_rank=21,\n",
    "        n_estimators=50,\n",
    "        bin_entry=True,\n",
    "        clustering=\"ms\",\n",
    "        max_depth=2,\n",
    "        n_jobs=10,\n",
    ")\n",
    "y_pred = model.predict(X, y_experiment)"
   ]
  },
  {
   "cell_type": "markdown",
   "id": "indian-emission",
   "metadata": {},
   "source": [
    "# Look at the results"
   ]
  },
  {
   "cell_type": "code",
   "execution_count": 10,
   "id": "contrary-caribbean",
   "metadata": {},
   "outputs": [
    {
     "name": "stdout",
     "output_type": "stream",
     "text": [
      "------------------------\n",
      "Num. of Abstaining 3\n",
      "Percent Abstaining 5.88235294117647 %\n",
      "F1= 0.9181790683605566\n"
     ]
    }
   ],
   "source": [
    "from sklearn.metrics import f1_score\n",
    "\n",
    "unknown_indices = np.argwhere(y_experiment == -1).flatten()\n",
    "did_predict_indices = np.argwhere(y_pred[unknown_indices] != -1).flatten()\n",
    "abstaining_count = len(np.argwhere(y_pred == -1))\n",
    "f1 = f1_score(\n",
    "    y_true[unknown_indices][did_predict_indices],\n",
    "    y_pred[unknown_indices][did_predict_indices],\n",
    "    average=\"weighted\",\n",
    ")\n",
    "\n",
    "print(\"------------------------\")\n",
    "print(\"Num. of Abstaining\", abstaining_count)\n",
    "print(\"Percent Abstaining\", (abstaining_count / len(unknown_indices)) * 100, \"%\")\n",
    "print(\"F1=\", f1)"
   ]
  },
  {
   "cell_type": "code",
   "execution_count": 11,
   "id": "restricted-external",
   "metadata": {},
   "outputs": [
    {
     "name": "stdout",
     "output_type": "stream",
     "text": [
      "              precision    recall  f1-score   support\n",
      "\n",
      "           0       1.00      0.87      0.93        31\n",
      "           1       0.81      1.00      0.89        17\n",
      "\n",
      "    accuracy                           0.92        48\n",
      "   macro avg       0.90      0.94      0.91        48\n",
      "weighted avg       0.93      0.92      0.92        48\n",
      "\n"
     ]
    }
   ],
   "source": [
    "from sklearn.metrics import classification_report\n",
    "\n",
    "y_true_hat = y_true[unknown_indices][did_predict_indices]\n",
    "y_pred_hat = y_pred[unknown_indices][did_predict_indices]\n",
    "print(classification_report(y_true_hat, y_pred_hat))"
   ]
  },
  {
   "cell_type": "code",
   "execution_count": null,
   "id": "present-playlist",
   "metadata": {},
   "outputs": [],
   "source": []
  }
 ],
 "metadata": {
  "kernelspec": {
   "display_name": "Python 3 (ipykernel)",
   "language": "python",
   "name": "python3"
  },
  "language_info": {
   "codemirror_mode": {
    "name": "ipython",
    "version": 3
   },
   "file_extension": ".py",
   "mimetype": "text/x-python",
   "name": "python",
   "nbconvert_exporter": "python",
   "pygments_lexer": "ipython3",
   "version": "3.8.5"
  }
 },
 "nbformat": 4,
 "nbformat_minor": 5
}
